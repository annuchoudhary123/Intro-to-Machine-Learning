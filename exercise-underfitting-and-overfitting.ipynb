{
 "cells": [
  {
   "cell_type": "markdown",
   "id": "a353ac81",
   "metadata": {
    "papermill": {
     "duration": 0.014527,
     "end_time": "2022-05-14T06:08:58.890563",
     "exception": false,
     "start_time": "2022-05-14T06:08:58.876036",
     "status": "completed"
    },
    "tags": []
   },
   "source": [
    "**This notebook is an exercise in the [Introduction to Machine Learning](https://www.kaggle.com/learn/intro-to-machine-learning) course.  You can reference the tutorial at [this link](https://www.kaggle.com/dansbecker/underfitting-and-overfitting).**\n",
    "\n",
    "---\n"
   ]
  },
  {
   "cell_type": "markdown",
   "id": "89fed81b",
   "metadata": {
    "papermill": {
     "duration": 0.012382,
     "end_time": "2022-05-14T06:08:58.917420",
     "exception": false,
     "start_time": "2022-05-14T06:08:58.905038",
     "status": "completed"
    },
    "tags": []
   },
   "source": [
    "## Recap\n",
    "You've built your first model, and now it's time to optimize the size of the tree to make better predictions. Run this cell to set up your coding environment where the previous step left off."
   ]
  },
  {
   "cell_type": "code",
   "execution_count": 1,
   "id": "610dda2d",
   "metadata": {
    "execution": {
     "iopub.execute_input": "2022-05-14T06:08:58.946040Z",
     "iopub.status.busy": "2022-05-14T06:08:58.945710Z",
     "iopub.status.idle": "2022-05-14T06:09:00.481175Z",
     "shell.execute_reply": "2022-05-14T06:09:00.479278Z"
    },
    "papermill": {
     "duration": 1.554087,
     "end_time": "2022-05-14T06:09:00.484133",
     "exception": false,
     "start_time": "2022-05-14T06:08:58.930046",
     "status": "completed"
    },
    "tags": []
   },
   "outputs": [
    {
     "name": "stdout",
     "output_type": "stream",
     "text": [
      "Validation MAE: 29,653\n",
      "\n",
      "Setup complete\n"
     ]
    }
   ],
   "source": [
    "# Code you have previously used to load data\n",
    "import pandas as pd\n",
    "from sklearn.metrics import mean_absolute_error\n",
    "from sklearn.model_selection import train_test_split\n",
    "from sklearn.tree import DecisionTreeRegressor\n",
    "\n",
    "\n",
    "# Path of the file to read\n",
    "iowa_file_path = '../input/home-data-for-ml-course/train.csv'\n",
    "\n",
    "home_data = pd.read_csv(iowa_file_path)\n",
    "# Create target object and call it y\n",
    "y = home_data.SalePrice\n",
    "# Create X\n",
    "features = ['LotArea', 'YearBuilt', '1stFlrSF', '2ndFlrSF', 'FullBath', 'BedroomAbvGr', 'TotRmsAbvGrd']\n",
    "X = home_data[features]\n",
    "\n",
    "# Split into validation and training data\n",
    "train_X, val_X, train_y, val_y = train_test_split(X, y, random_state=1)\n",
    "\n",
    "# Specify Model\n",
    "iowa_model = DecisionTreeRegressor(random_state=1)\n",
    "# Fit Model\n",
    "iowa_model.fit(train_X, train_y)\n",
    "\n",
    "# Make validation predictions and calculate mean absolute error\n",
    "val_predictions = iowa_model.predict(val_X)\n",
    "val_mae = mean_absolute_error(val_predictions, val_y)\n",
    "print(\"Validation MAE: {:,.0f}\".format(val_mae))\n",
    "\n",
    "# Set up code checking\n",
    "from learntools.core import binder\n",
    "binder.bind(globals())\n",
    "from learntools.machine_learning.ex5 import *\n",
    "print(\"\\nSetup complete\")"
   ]
  },
  {
   "cell_type": "markdown",
   "id": "c1933f18",
   "metadata": {
    "papermill": {
     "duration": 0.013127,
     "end_time": "2022-05-14T06:09:00.510965",
     "exception": false,
     "start_time": "2022-05-14T06:09:00.497838",
     "status": "completed"
    },
    "tags": []
   },
   "source": [
    "# Exercises\n",
    "You could write the function `get_mae` yourself. For now, we'll supply it. This is the same function you read about in the previous lesson. Just run the cell below."
   ]
  },
  {
   "cell_type": "code",
   "execution_count": 2,
   "id": "72abc890",
   "metadata": {
    "execution": {
     "iopub.execute_input": "2022-05-14T06:09:00.539718Z",
     "iopub.status.busy": "2022-05-14T06:09:00.539288Z",
     "iopub.status.idle": "2022-05-14T06:09:00.544975Z",
     "shell.execute_reply": "2022-05-14T06:09:00.544235Z"
    },
    "papermill": {
     "duration": 0.022738,
     "end_time": "2022-05-14T06:09:00.547315",
     "exception": false,
     "start_time": "2022-05-14T06:09:00.524577",
     "status": "completed"
    },
    "tags": []
   },
   "outputs": [],
   "source": [
    "def get_mae(max_leaf_nodes, train_X, val_X, train_y, val_y):\n",
    "    model = DecisionTreeRegressor(max_leaf_nodes=max_leaf_nodes, random_state=0)\n",
    "    model.fit(train_X, train_y)\n",
    "    preds_val = model.predict(val_X)\n",
    "    mae = mean_absolute_error(val_y, preds_val)\n",
    "    return(mae)"
   ]
  },
  {
   "cell_type": "markdown",
   "id": "c46c8958",
   "metadata": {
    "papermill": {
     "duration": 0.012888,
     "end_time": "2022-05-14T06:09:00.573510",
     "exception": false,
     "start_time": "2022-05-14T06:09:00.560622",
     "status": "completed"
    },
    "tags": []
   },
   "source": [
    "## Step 1: Compare Different Tree Sizes\n",
    "Write a loop that tries the following values for *max_leaf_nodes* from a set of possible values.\n",
    "\n",
    "Call the *get_mae* function on each value of max_leaf_nodes. Store the output in some way that allows you to select the value of `max_leaf_nodes` that gives the most accurate model on your data."
   ]
  },
  {
   "cell_type": "code",
   "execution_count": 3,
   "id": "0447755e",
   "metadata": {
    "execution": {
     "iopub.execute_input": "2022-05-14T06:09:00.601862Z",
     "iopub.status.busy": "2022-05-14T06:09:00.601225Z",
     "iopub.status.idle": "2022-05-14T06:09:00.605488Z",
     "shell.execute_reply": "2022-05-14T06:09:00.604762Z"
    },
    "papermill": {
     "duration": 0.02098,
     "end_time": "2022-05-14T06:09:00.607687",
     "exception": false,
     "start_time": "2022-05-14T06:09:00.586707",
     "status": "completed"
    },
    "tags": []
   },
   "outputs": [],
   "source": [
    "\n",
    "candidate_max_leaf_nodes = [5, 25, 50, 100, 250, 500]\n",
    "# Write loop to find the ideal tree size from candidate_max_leaf_nodes\n",
    "# Store the best value of max_leaf_nodes (it will be either 5, 25, 50, 100, 250 or 500)\n"
   ]
  },
  {
   "cell_type": "code",
   "execution_count": 4,
   "id": "b6806a90",
   "metadata": {
    "execution": {
     "iopub.execute_input": "2022-05-14T06:09:00.637985Z",
     "iopub.status.busy": "2022-05-14T06:09:00.637381Z",
     "iopub.status.idle": "2022-05-14T06:09:00.687694Z",
     "shell.execute_reply": "2022-05-14T06:09:00.686988Z"
    },
    "papermill": {
     "duration": 0.06842,
     "end_time": "2022-05-14T06:09:00.690403",
     "exception": false,
     "start_time": "2022-05-14T06:09:00.621983",
     "status": "completed"
    },
    "tags": []
   },
   "outputs": [
    {
     "data": {
      "application/javascript": [
       "parent.postMessage({\"jupyterEvent\": \"custom.exercise_interaction\", \"data\": {\"outcomeType\": 1, \"valueTowardsCompletion\": 0.5, \"interactionType\": 1, \"questionType\": 1, \"questionId\": \"1_BestTreeSize\", \"learnToolsVersion\": \"0.3.4\", \"failureMessage\": \"\", \"exceptionClass\": \"\", \"trace\": \"\"}}, \"*\")"
      ],
      "text/plain": [
       "<IPython.core.display.Javascript object>"
      ]
     },
     "metadata": {},
     "output_type": "display_data"
    },
    {
     "data": {
      "text/markdown": [
       "<span style=\"color:#33cc33\">Correct</span>"
      ],
      "text/plain": [
       "Correct"
      ]
     },
     "metadata": {},
     "output_type": "display_data"
    }
   ],
   "source": [
    "#scores = {leaf_size: get_mae(leaf_size, train_X, val_X, train_y, val_y) for leaf_size in max_leaf_nodes}\n",
    "#best_tree_size = min(scores, key=scores.get)\n",
    "scores = {leaf_size: get_mae(leaf_size, train_X, val_X, train_y, val_y) for leaf_size in candidate_max_leaf_nodes}\n",
    "best_tree_size = min(scores, key=scores.get)\n",
    "# Check your answer\n",
    "step_1.check()"
   ]
  },
  {
   "cell_type": "code",
   "execution_count": 5,
   "id": "7a688356",
   "metadata": {
    "execution": {
     "iopub.execute_input": "2022-05-14T06:09:00.721250Z",
     "iopub.status.busy": "2022-05-14T06:09:00.720886Z",
     "iopub.status.idle": "2022-05-14T06:09:00.728400Z",
     "shell.execute_reply": "2022-05-14T06:09:00.727433Z"
    },
    "papermill": {
     "duration": 0.025503,
     "end_time": "2022-05-14T06:09:00.730398",
     "exception": false,
     "start_time": "2022-05-14T06:09:00.704895",
     "status": "completed"
    },
    "tags": []
   },
   "outputs": [
    {
     "data": {
      "application/javascript": [
       "parent.postMessage({\"jupyterEvent\": \"custom.exercise_interaction\", \"data\": {\"interactionType\": 2, \"questionType\": 1, \"questionId\": \"1_BestTreeSize\", \"learnToolsVersion\": \"0.3.4\", \"valueTowardsCompletion\": 0.0, \"failureMessage\": \"\", \"exceptionClass\": \"\", \"trace\": \"\", \"outcomeType\": 4}}, \"*\")"
      ],
      "text/plain": [
       "<IPython.core.display.Javascript object>"
      ]
     },
     "metadata": {},
     "output_type": "display_data"
    },
    {
     "data": {
      "text/markdown": [
       "<span style=\"color:#3366cc\">Hint:</span> You will call get_mae in the loop. You'll need to map the names of your data structure to the names in get_mae"
      ],
      "text/plain": [
       "Hint: You will call get_mae in the loop. You'll need to map the names of your data structure to the names in get_mae"
      ]
     },
     "metadata": {},
     "output_type": "display_data"
    }
   ],
   "source": [
    "# The lines below will show you a hint or the solution.\n",
    "step_1.hint() \n",
    "#step_1.solution()"
   ]
  },
  {
   "cell_type": "markdown",
   "id": "90d52838",
   "metadata": {
    "papermill": {
     "duration": 0.015068,
     "end_time": "2022-05-14T06:09:00.760931",
     "exception": false,
     "start_time": "2022-05-14T06:09:00.745863",
     "status": "completed"
    },
    "tags": []
   },
   "source": [
    "## Step 2: Fit Model Using All Data\n",
    "You know the best tree size. If you were going to deploy this model in practice, you would make it even more accurate by using all of the data and keeping that tree size.  That is, you don't need to hold out the validation data now that you've made all your modeling decisions."
   ]
  },
  {
   "cell_type": "code",
   "execution_count": 6,
   "id": "432d5b35",
   "metadata": {
    "execution": {
     "iopub.execute_input": "2022-05-14T06:09:00.794124Z",
     "iopub.status.busy": "2022-05-14T06:09:00.793294Z",
     "iopub.status.idle": "2022-05-14T06:09:00.809500Z",
     "shell.execute_reply": "2022-05-14T06:09:00.808669Z"
    },
    "papermill": {
     "duration": 0.035142,
     "end_time": "2022-05-14T06:09:00.811656",
     "exception": false,
     "start_time": "2022-05-14T06:09:00.776514",
     "status": "completed"
    },
    "tags": []
   },
   "outputs": [
    {
     "data": {
      "application/javascript": [
       "parent.postMessage({\"jupyterEvent\": \"custom.exercise_interaction\", \"data\": {\"outcomeType\": 1, \"valueTowardsCompletion\": 0.5, \"interactionType\": 1, \"questionType\": 2, \"questionId\": \"2_FitModelWithAllData\", \"learnToolsVersion\": \"0.3.4\", \"failureMessage\": \"\", \"exceptionClass\": \"\", \"trace\": \"\"}}, \"*\")"
      ],
      "text/plain": [
       "<IPython.core.display.Javascript object>"
      ]
     },
     "metadata": {},
     "output_type": "display_data"
    },
    {
     "data": {
      "text/markdown": [
       "<span style=\"color:#33cc33\">Correct</span>"
      ],
      "text/plain": [
       "Correct"
      ]
     },
     "metadata": {},
     "output_type": "display_data"
    }
   ],
   "source": [
    "# Fill in argument to make optimal size and uncomment\n",
    "final_model = DecisionTreeRegressor(max_leaf_nodes=best_tree_size,random_state=1)\n",
    "\n",
    "# fit the final model and uncomment the next two lines\n",
    "final_model.fit(X,y)\n",
    "\n",
    "# Check your answer\n",
    "step_2.check()"
   ]
  },
  {
   "cell_type": "code",
   "execution_count": 7,
   "id": "61e52d84",
   "metadata": {
    "execution": {
     "iopub.execute_input": "2022-05-14T06:09:00.847417Z",
     "iopub.status.busy": "2022-05-14T06:09:00.846941Z",
     "iopub.status.idle": "2022-05-14T06:09:00.850860Z",
     "shell.execute_reply": "2022-05-14T06:09:00.850034Z"
    },
    "papermill": {
     "duration": 0.024414,
     "end_time": "2022-05-14T06:09:00.853052",
     "exception": false,
     "start_time": "2022-05-14T06:09:00.828638",
     "status": "completed"
    },
    "tags": []
   },
   "outputs": [],
   "source": [
    "# step_2.hint()\n",
    "# step_2.solution()"
   ]
  },
  {
   "cell_type": "markdown",
   "id": "4c2c9a9d",
   "metadata": {
    "papermill": {
     "duration": 0.017082,
     "end_time": "2022-05-14T06:09:00.887967",
     "exception": false,
     "start_time": "2022-05-14T06:09:00.870885",
     "status": "completed"
    },
    "tags": []
   },
   "source": [
    "You've tuned this model and improved your results. But we are still using Decision Tree models, which are not very sophisticated by modern machine learning standards. In the next step you will learn to use Random Forests to improve your models even more.\n",
    "\n",
    "# Keep Going\n",
    "\n",
    "You are ready for **[Random Forests](https://www.kaggle.com/dansbecker/random-forests).**\n"
   ]
  },
  {
   "cell_type": "markdown",
   "id": "05157df2",
   "metadata": {
    "papermill": {
     "duration": 0.016438,
     "end_time": "2022-05-14T06:09:00.921323",
     "exception": false,
     "start_time": "2022-05-14T06:09:00.904885",
     "status": "completed"
    },
    "tags": []
   },
   "source": [
    "---\n",
    "\n",
    "\n",
    "\n",
    "\n",
    "*Have questions or comments? Visit the [course discussion forum](https://www.kaggle.com/learn/intro-to-machine-learning/discussion) to chat with other learners.*"
   ]
  }
 ],
 "metadata": {
  "kernelspec": {
   "display_name": "Python 3",
   "language": "python",
   "name": "python3"
  },
  "language_info": {
   "codemirror_mode": {
    "name": "ipython",
    "version": 3
   },
   "file_extension": ".py",
   "mimetype": "text/x-python",
   "name": "python",
   "nbconvert_exporter": "python",
   "pygments_lexer": "ipython3",
   "version": "3.7.12"
  },
  "papermill": {
   "default_parameters": {},
   "duration": 13.380402,
   "end_time": "2022-05-14T06:09:01.760430",
   "environment_variables": {},
   "exception": null,
   "input_path": "__notebook__.ipynb",
   "output_path": "__notebook__.ipynb",
   "parameters": {},
   "start_time": "2022-05-14T06:08:48.380028",
   "version": "2.3.4"
  }
 },
 "nbformat": 4,
 "nbformat_minor": 5
}
